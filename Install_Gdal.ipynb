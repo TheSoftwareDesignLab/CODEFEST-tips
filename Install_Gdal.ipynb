{
 "cells": [
  {
   "cell_type": "markdown",
   "id": "fa851993-685b-41e0-82a3-f152fd3b96e7",
   "metadata": {},
   "source": [
    "# Instalar Gdal - para Python como librería de cluster\n",
    "1. ir a [Wheels_Python](https://girder.github.io/large_image_wheels/)\n",
    "2. Descargar GDAL-3.6.0-cp39-cp39-manylinux_2_17_x86_64.manylinux2014_x86_64\n",
    "3. Ir a databricks y  asegurarse que el runtime sea  11.2 ML (ver presentación para mayor información)\n",
    "4. Ir a libraries >> Install new >> Upload >> Python WHL >> Subir el archivo descargado en 2 (para mayor información en dónde encontrar esto, ver la presentación)\n",
    "5. Esperar que suba el WHL esto puede tomar unos minutos\n",
    "6. hacer click en **Install**\n",
    "\n",
    "#Probar la ejecución \n",
    "Abrir un notebook y ejecutar"
   ]
  },
  {
   "cell_type": "code",
   "execution_count": null,
   "id": "be27eb2d-11c9-4d2a-a74c-e02d4dab6890",
   "metadata": {},
   "outputs": [],
   "source": [
    "from osgeo import gdal"
   ]
  }
 ],
 "metadata": {
  "kernelspec": {
   "display_name": "Python 3 (ipykernel)",
   "language": "python",
   "name": "python3"
  },
  "language_info": {
   "codemirror_mode": {
    "name": "ipython",
    "version": 3
   },
   "file_extension": ".py",
   "mimetype": "text/x-python",
   "name": "python",
   "nbconvert_exporter": "python",
   "pygments_lexer": "ipython3",
   "version": "3.9.13"
  }
 },
 "nbformat": 4,
 "nbformat_minor": 5
}
